{
 "cells": [
  {
   "cell_type": "code",
   "execution_count": null,
   "id": "b6f02cc0",
   "metadata": {},
   "outputs": [],
   "source": [
    "!pip install findspark polars fsspec s3fs"
   ]
  },
  {
   "cell_type": "code",
   "execution_count": 1,
   "id": "5cf18ed1",
   "metadata": {},
   "outputs": [
    {
     "data": {
      "text/plain": [
       "'/usr/lib/spark'"
      ]
     },
     "execution_count": 1,
     "metadata": {},
     "output_type": "execute_result"
    }
   ],
   "source": [
    "import findspark\n",
    "findspark.init()\n",
    "findspark.find()"
   ]
  },
  {
   "cell_type": "code",
   "execution_count": 2,
   "id": "07a9399a",
   "metadata": {},
   "outputs": [],
   "source": [
    "import numpy as np\n",
    "from pyspark.sql import SparkSession, SQLContext\n",
    "from pyspark import SparkContext, SparkConf\n",
    "from pyspark.sql.functions import (count, when, isnan, col, countDistinct, approx_count_distinct, \\\n",
    "                                   to_timestamp, unix_timestamp, floor)\n",
    "from pyspark.sql.types import (StringType, BooleanType, LongType, TimestampType, \\\n",
    "                               DecimalType, IntegerType, ShortType, StructType)"
   ]
  },
  {
   "cell_type": "code",
   "execution_count": 3,
   "id": "a002eff9",
   "metadata": {},
   "outputs": [],
   "source": [
    "S3_BUCKET = \"s3a://otus-mlops-course/raw/\""
   ]
  },
  {
   "cell_type": "code",
   "execution_count": 4,
   "id": "dc1d10de",
   "metadata": {},
   "outputs": [
    {
     "name": "stdout",
     "output_type": "stream",
     "text": [
      "CPU times: user 24.7 ms, sys: 10.4 ms, total: 35.1 ms\n",
      "Wall time: 20.6 s\n"
     ]
    }
   ],
   "source": [
    "%%time\n",
    "spark = SparkSession\\\n",
    "    .builder\\\n",
    "    .appName(\"preproc\")\\\n",
    "    .config(\"spark.executor.memory\", \"8g\")\\\n",
    "    .config(\"spark.driver.memory\", \"8g\")\\\n",
    "    .config(\"spark.driver.maxResultSize\", \"8g\")\\\n",
    "    .getOrCreate()"
   ]
  },
  {
   "cell_type": "code",
   "execution_count": 5,
   "id": "3c8510a8",
   "metadata": {},
   "outputs": [
    {
     "name": "stdout",
     "output_type": "stream",
     "text": [
      "CPU times: user 1.29 ms, sys: 229 µs, total: 1.52 ms\n",
      "Wall time: 3.34 ms\n"
     ]
    }
   ],
   "source": [
    "%%time\n",
    "sql = SQLContext(spark)"
   ]
  },
  {
   "cell_type": "code",
   "execution_count": 9,
   "id": "04c63a6f",
   "metadata": {},
   "outputs": [
    {
     "name": "stdout",
     "output_type": "stream",
     "text": [
      "CPU times: user 79.2 ms, sys: 18.8 ms, total: 98 ms\n",
      "Wall time: 11min 35s\n"
     ]
    }
   ],
   "source": [
    "%%time\n",
    "df = sql.read.csv(S3_BUCKET, header=True, inferSchema=True)"
   ]
  },
  {
   "cell_type": "code",
   "execution_count": 23,
   "id": "fac5bda5",
   "metadata": {},
   "outputs": [
    {
     "name": "stdout",
     "output_type": "stream",
     "text": [
      "root\n",
      " |-- tx_id: integer (nullable = true)\n",
      " |-- tx_datetime: string (nullable = true)\n",
      " |-- customer_id: integer (nullable = true)\n",
      " |-- terminal_id: string (nullable = true)\n",
      " |-- tx_amount: double (nullable = true)\n",
      " |-- tx_time_seconds: integer (nullable = true)\n",
      " |-- tx_time_days: integer (nullable = true)\n",
      " |-- tx_fraud: integer (nullable = true)\n",
      " |-- tx_fraud_scenario: integer (nullable = true)\n",
      "\n"
     ]
    }
   ],
   "source": [
    "df.printSchema()"
   ]
  },
  {
   "cell_type": "code",
   "execution_count": 26,
   "id": "8b342e8c",
   "metadata": {},
   "outputs": [
    {
     "name": "stdout",
     "output_type": "stream",
     "text": [
      "(1879794098, 9)\n"
     ]
    }
   ],
   "source": [
    "print((df.count(), len(df.columns)))"
   ]
  },
  {
   "cell_type": "markdown",
   "id": "04924da8",
   "metadata": {},
   "source": [
    "## Problem # 1:invalid terminal id [~0.002%]"
   ]
  },
  {
   "cell_type": "code",
   "execution_count": 10,
   "id": "eb996de7",
   "metadata": {},
   "outputs": [
    {
     "name": "stdout",
     "output_type": "stream",
     "text": [
      "CPU times: user 65.9 ms, sys: 15.3 ms, total: 81.2 ms\n",
      "Wall time: 8min 28s\n"
     ]
    }
   ],
   "source": [
    "%%time\n",
    "distinct_terminals = df.select('terminal_id').distinct().collect()"
   ]
  },
  {
   "cell_type": "code",
   "execution_count": 19,
   "id": "4a5e332c",
   "metadata": {},
   "outputs": [
    {
     "data": {
      "text/plain": [
       "1009"
      ]
     },
     "execution_count": 19,
     "metadata": {},
     "output_type": "execute_result"
    }
   ],
   "source": [
    "len(distinct_terminals)"
   ]
  },
  {
   "cell_type": "code",
   "execution_count": 17,
   "id": "fd11e776",
   "metadata": {},
   "outputs": [
    {
     "ename": "TypeError",
     "evalue": "int() argument must be a string, a bytes-like object or a number, not 'NoneType'",
     "output_type": "error",
     "traceback": [
      "\u001b[0;31m---------------------------------------------------------------------------\u001b[0m",
      "\u001b[0;31mTypeError\u001b[0m                                 Traceback (most recent call last)",
      "\u001b[0;32m<ipython-input-17-320a969da125>\u001b[0m in \u001b[0;36m<module>\u001b[0;34m\u001b[0m\n\u001b[1;32m      1\u001b[0m \u001b[0;32mimport\u001b[0m \u001b[0mnumpy\u001b[0m \u001b[0;32mas\u001b[0m \u001b[0mnp\u001b[0m\u001b[0;34m\u001b[0m\u001b[0;34m\u001b[0m\u001b[0m\n\u001b[1;32m      2\u001b[0m \u001b[0mdt_array\u001b[0m \u001b[0;34m=\u001b[0m \u001b[0mnp\u001b[0m\u001b[0;34m.\u001b[0m\u001b[0marray\u001b[0m\u001b[0;34m(\u001b[0m\u001b[0mdistinct_terminals\u001b[0m\u001b[0;34m)\u001b[0m\u001b[0;34m.\u001b[0m\u001b[0mflatten\u001b[0m\u001b[0;34m(\u001b[0m\u001b[0;34m)\u001b[0m\u001b[0;34m\u001b[0m\u001b[0;34m\u001b[0m\u001b[0m\n\u001b[0;32m----> 3\u001b[0;31m \u001b[0mdt_array\u001b[0m\u001b[0;34m.\u001b[0m\u001b[0mastype\u001b[0m\u001b[0;34m(\u001b[0m\u001b[0mint\u001b[0m\u001b[0;34m)\u001b[0m\u001b[0;34m\u001b[0m\u001b[0;34m\u001b[0m\u001b[0m\n\u001b[0m",
      "\u001b[0;31mTypeError\u001b[0m: int() argument must be a string, a bytes-like object or a number, not 'NoneType'"
     ]
    }
   ],
   "source": [
    "import numpy as np\n",
    "dt_array = np.array(distinct_terminals).flatten()\n",
    "dt_array.astype(int)"
   ]
  },
  {
   "cell_type": "code",
   "execution_count": 18,
   "id": "c13263d0",
   "metadata": {},
   "outputs": [
    {
     "name": "stdout",
     "output_type": "stream",
     "text": [
      "None;Err;"
     ]
    }
   ],
   "source": [
    "# easiest check, because dt_array is small:)\n",
    "for x in dt_array:\n",
    "    try:\n",
    "        x = int(x)\n",
    "    except:\n",
    "        print(x, end=';')"
   ]
  },
  {
   "cell_type": "code",
   "execution_count": 35,
   "id": "c8f1928d",
   "metadata": {},
   "outputs": [
    {
     "name": "stdout",
     "output_type": "stream",
     "text": [
      "CPU times: user 3.36 ms, sys: 0 ns, total: 3.36 ms\n",
      "Wall time: 31 ms\n"
     ]
    }
   ],
   "source": [
    "%%time\n",
    "terminal_counts = df.agg(approx_count_distinct(\"terminal_id\"))"
   ]
  },
  {
   "cell_type": "code",
   "execution_count": 22,
   "id": "9a05f7b6",
   "metadata": {},
   "outputs": [],
   "source": [
    "# trying explicit cast with spark\n",
    "terminal_int_cast = df.select(\"terminal_id\").withColumn(\"terminal_id\", col(\"terminal_id\").cast(IntegerType()))"
   ]
  },
  {
   "cell_type": "code",
   "execution_count": 24,
   "id": "69360050",
   "metadata": {},
   "outputs": [
    {
     "name": "stdout",
     "output_type": "stream",
     "text": [
      "+-----------+\n",
      "|terminal_id|\n",
      "+-----------+\n",
      "|      40312|\n",
      "+-----------+\n",
      "\n",
      "CPU times: user 112 ms, sys: 22 ms, total: 134 ms\n",
      "Wall time: 15min 32s\n"
     ]
    }
   ],
   "source": [
    "%%time\n",
    "terminal_int_cast.select([count(when(isnan(c) | col(c).isNull(), c)).alias(c) for c in ['terminal_id']]).show()"
   ]
  },
  {
   "cell_type": "markdown",
   "id": "bedc573e",
   "metadata": {},
   "source": [
    "## Problem #2: invalid datetime format [~0.0002%]"
   ]
  },
  {
   "cell_type": "code",
   "execution_count": 45,
   "id": "67a48192",
   "metadata": {},
   "outputs": [
    {
     "name": "stdout",
     "output_type": "stream",
     "text": [
      "CPU times: user 2.12 ms, sys: 364 µs, total: 2.49 ms\n",
      "Wall time: 19.1 ms\n"
     ]
    }
   ],
   "source": [
    "%%time\n",
    "tx_dt = df.select(col(\"tx_datetime\"), to_timestamp(col(\"tx_datetime\"), \"yyyy-MM-dd HH:mm:ss\").alias(\"to_timestamp\"))\n",
    "  "
   ]
  },
  {
   "cell_type": "code",
   "execution_count": 49,
   "id": "d08ed2f4",
   "metadata": {},
   "outputs": [
    {
     "name": "stdout",
     "output_type": "stream",
     "text": [
      "+-------------------+-------------------+\n",
      "|        tx_datetime|       to_timestamp|\n",
      "+-------------------+-------------------+\n",
      "|2019-08-22 05:10:37|2019-08-22 05:10:37|\n",
      "|2019-08-22 19:05:33|2019-08-22 19:05:33|\n",
      "|2019-08-22 07:21:33|2019-08-22 07:21:33|\n",
      "|2019-08-22 09:06:17|2019-08-22 09:06:17|\n",
      "|2019-08-22 18:41:25|2019-08-22 18:41:25|\n",
      "|2019-08-22 03:12:21|2019-08-22 03:12:21|\n",
      "|2019-08-22 22:36:40|2019-08-22 22:36:40|\n",
      "|2019-08-22 17:23:29|2019-08-22 17:23:29|\n",
      "|2019-08-22 21:09:37|2019-08-22 21:09:37|\n",
      "|2019-08-22 11:32:42|2019-08-22 11:32:42|\n",
      "|2019-08-22 03:09:26|2019-08-22 03:09:26|\n",
      "|2019-08-22 15:47:54|2019-08-22 15:47:54|\n",
      "|2019-08-22 21:59:20|2019-08-22 21:59:20|\n",
      "|2019-08-22 20:55:13|2019-08-22 20:55:13|\n",
      "|2019-08-22 16:39:03|2019-08-22 16:39:03|\n",
      "|2019-08-22 23:15:07|2019-08-22 23:15:07|\n",
      "|2019-08-22 07:39:45|2019-08-22 07:39:45|\n",
      "|2019-08-22 05:35:39|2019-08-22 05:35:39|\n",
      "|2019-08-22 10:29:16|2019-08-22 10:29:16|\n",
      "|2019-08-22 06:13:37|2019-08-22 06:13:37|\n",
      "+-------------------+-------------------+\n",
      "only showing top 20 rows\n",
      "\n"
     ]
    }
   ],
   "source": [
    "tx_dt.show()"
   ]
  },
  {
   "cell_type": "code",
   "execution_count": 56,
   "id": "d0d83e62",
   "metadata": {},
   "outputs": [],
   "source": [
    "unix_tmstmp = df.select(unix_timestamp(col(\"tx_datetime\")).alias(\"timestamp_1\"))"
   ]
  },
  {
   "cell_type": "code",
   "execution_count": 57,
   "id": "c688f6e9",
   "metadata": {},
   "outputs": [
    {
     "name": "stdout",
     "output_type": "stream",
     "text": [
      "root\n",
      " |-- timestamp_1: long (nullable = true)\n",
      "\n"
     ]
    }
   ],
   "source": [
    "unix_tmstmp.printSchema()"
   ]
  },
  {
   "cell_type": "code",
   "execution_count": 62,
   "id": "c34e40e9",
   "metadata": {},
   "outputs": [
    {
     "name": "stdout",
     "output_type": "stream",
     "text": [
      "+-----------+\n",
      "|timestamp_1|\n",
      "+-----------+\n",
      "| 1566450637|\n",
      "| 1566500733|\n",
      "| 1566458493|\n",
      "| 1566464777|\n",
      "| 1566499285|\n",
      "| 1566443541|\n",
      "| 1566513400|\n",
      "| 1566494609|\n",
      "| 1566508177|\n",
      "| 1566473562|\n",
      "| 1566443366|\n",
      "| 1566488874|\n",
      "| 1566511160|\n",
      "| 1566507313|\n",
      "| 1566491943|\n",
      "| 1566515707|\n",
      "| 1566459585|\n",
      "| 1566452139|\n",
      "| 1566469756|\n",
      "| 1566454417|\n",
      "+-----------+\n",
      "only showing top 20 rows\n",
      "\n"
     ]
    }
   ],
   "source": [
    "unix_tmstmp.show()"
   ]
  },
  {
   "cell_type": "code",
   "execution_count": 58,
   "id": "395bff81",
   "metadata": {},
   "outputs": [
    {
     "name": "stdout",
     "output_type": "stream",
     "text": [
      "+-----------+\n",
      "|timestamp_1|\n",
      "+-----------+\n",
      "|       3805|\n",
      "+-----------+\n",
      "\n",
      "CPU times: user 82.2 ms, sys: 29.2 ms, total: 111 ms\n",
      "Wall time: 12min 39s\n"
     ]
    }
   ],
   "source": [
    "%%time\n",
    "unix_tmstmp.select([count(when(isnan(c) | col(c).isNull(), c)).alias(c) for c in ['timestamp_1']]).show()"
   ]
  },
  {
   "cell_type": "markdown",
   "id": "c1223a3f",
   "metadata": {},
   "source": [
    "## Problem #3: Inconsistent data between `tx_time_seconds` and `tx_time_days` [~0.0002%]"
   ]
  },
  {
   "cell_type": "code",
   "execution_count": 97,
   "id": "a6131bb7",
   "metadata": {},
   "outputs": [
    {
     "name": "stdout",
     "output_type": "stream",
     "text": [
      "CPU times: user 42.5 ms, sys: 28.6 ms, total: 71.1 ms\n",
      "Wall time: 7min 45s\n"
     ]
    },
    {
     "data": {
      "text/plain": [
       "4229"
      ]
     },
     "execution_count": 97,
     "metadata": {},
     "output_type": "execute_result"
    }
   ],
   "source": [
    "%%time\n",
    "n_sec_day = 3600 * 24\n",
    "df.select('tx_time_seconds').where(df.tx_time_days < floor(df.tx_time_seconds / n_sec_day)).count()"
   ]
  },
  {
   "cell_type": "markdown",
   "id": "11276cb5",
   "metadata": {},
   "source": [
    "## Problem #4: Duplicate transaction ids (should be unique, [~0.0001%])"
   ]
  },
  {
   "cell_type": "code",
   "execution_count": 105,
   "id": "2a6b39f3",
   "metadata": {},
   "outputs": [
    {
     "name": "stdout",
     "output_type": "stream",
     "text": [
      "CPU times: user 4.32 ms, sys: 0 ns, total: 4.32 ms\n",
      "Wall time: 27.4 ms\n"
     ]
    }
   ],
   "source": [
    "%%time\n",
    "tx_unique = df.select(col(\"tx_id\")).groupBy(\"tx_id\").agg(countDistinct(\"tx_id\"))"
   ]
  },
  {
   "cell_type": "code",
   "execution_count": 106,
   "id": "d92d6496",
   "metadata": {},
   "outputs": [
    {
     "name": "stdout",
     "output_type": "stream",
     "text": [
      "CPU times: user 234 ms, sys: 73.4 ms, total: 307 ms\n",
      "Wall time: 36min 10s\n"
     ]
    },
    {
     "data": {
      "text/plain": [
       "1879791545"
      ]
     },
     "execution_count": 106,
     "metadata": {},
     "output_type": "execute_result"
    }
   ],
   "source": [
    "%%time\n",
    "tx_unique.count()"
   ]
  },
  {
   "cell_type": "markdown",
   "id": "be872cb8",
   "metadata": {},
   "source": [
    "## Small check"
   ]
  },
  {
   "cell_type": "code",
   "execution_count": 12,
   "id": "1bf37538",
   "metadata": {},
   "outputs": [
    {
     "name": "stdout",
     "output_type": "stream",
     "text": [
      "CPU times: user 49.5 ms, sys: 18.7 ms, total: 68.2 ms\n",
      "Wall time: 6min 57s\n"
     ]
    }
   ],
   "source": [
    "%%time\n",
    "\"\"\"\n",
    "root\n",
    " |-- tx_id: integer (nullable = true)\n",
    " |-- tx_datetime: string (nullable = true)\n",
    " |-- customer_id: integer (nullable = true)\n",
    " |-- terminal_id: string (nullable = true)\n",
    " |-- tx_amount: double (nullable = true)\n",
    " |-- tx_time_seconds: integer (nullable = true)\n",
    " |-- tx_time_days: integer (nullable = true)\n",
    " |-- tx_fraud: integer (nullable = true)\n",
    " |-- tx_fraud_scenario: integer (nullable = true)\n",
    "\n",
    "\n",
    "\"\"\"\n",
    "schema = StructType() \\\n",
    "      .add(\"tx_id\", LongType(), True) \\\n",
    "      .add(\"tx_datetime\", TimestampType(), True) \\\n",
    "      .add(\"customer_id\", LongType(), True) \\\n",
    "      .add(\"terminal_id\", IntegerType(), True) \\\n",
    "      .add(\"tx_amount\", DecimalType(precision=10, scale=2), True) \\\n",
    "      .add(\"tx_time_seconds\", IntegerType(), True) \\\n",
    "      .add(\"tx_time_days\", IntegerType(), True) \\\n",
    "      .add(\"tx_fraud\", IntegerType(), True) \\\n",
    "      .add(\"tx_fraud_scenario\", ShortType(), True)\n",
    "\n",
    "df = spark.read.format(\"csv\") \\\n",
    "      .option(\"header\", True) \\\n",
    "      .schema(schema) \\\n",
    "      .load(f'{S3_BUCKET}/2019-08-22.txt')\n",
    "df = df.dropDuplicates([\"tx_id\"])\n",
    "df = df.na.drop(subset=[\"tx_datetime\", \"terminal_id\"])\n",
    "df.write.parquet(\"/tmp/2019-08-22_1.parquet\")"
   ]
  },
  {
   "cell_type": "code",
   "execution_count": 16,
   "id": "37135472",
   "metadata": {},
   "outputs": [],
   "source": [
    "processed = spark.read.parquet(f\"s3a://otus-mlops-course/tmp/2019-08-22_1.parquet\")"
   ]
  },
  {
   "cell_type": "markdown",
   "id": "500a2943",
   "metadata": {},
   "source": [
    "## Post-processing check"
   ]
  },
  {
   "cell_type": "code",
   "execution_count": 7,
   "id": "3276ef9e",
   "metadata": {},
   "outputs": [],
   "source": [
    "all_processed = spark.read.parquet(\"s3a://otus-mlops-course/user/ubuntu/processed/processed_data.parquet\")"
   ]
  },
  {
   "cell_type": "code",
   "execution_count": 9,
   "id": "b3b3a9f1",
   "metadata": {},
   "outputs": [
    {
     "name": "stdout",
     "output_type": "stream",
     "text": [
      "+-------+-------------------+-----------+-----------+---------+---------------+------------+--------+-----------------+\n",
      "|  tx_id|        tx_datetime|customer_id|terminal_id|tx_amount|tx_time_seconds|tx_time_days|tx_fraud|tx_fraud_scenario|\n",
      "+-------+-------------------+-----------+-----------+---------+---------------+------------+--------+-----------------+\n",
      "|7024003|2019-08-26 14:42:40|     484596|        619|     3.86|         398560|           4|    null|                0|\n",
      "|7024073|2019-08-26 13:46:46|     484638|         38|    46.08|         395206|           4|    null|                0|\n",
      "|7024092|2019-08-26 19:42:35|     484649|        930|   155.03|         416555|           4|    null|                0|\n",
      "|7024263|2019-08-26 16:34:14|     484762|        624|     2.58|         405254|           4|    null|                0|\n",
      "|7024417|2019-08-26 17:27:25|     484865|        272|   127.25|         408445|           4|    null|                0|\n",
      "|7024849|2019-08-26 14:45:02|     485138|        815|   104.76|         398702|           4|    null|                2|\n",
      "|7024889|2019-08-26 10:34:11|     485166|        540|    77.86|         383651|           4|    null|                0|\n",
      "|7025077|2019-08-26 12:45:12|     485276|        260|    56.85|         391512|           4|    null|                2|\n",
      "|7025446|2019-08-26 13:12:51|     485515|        342|    67.54|         393171|           4|    null|                0|\n",
      "|7026037|2019-08-26 05:55:32|     485893|        900|    32.29|         366932|           4|    null|                0|\n",
      "|7026107|2019-08-26 20:46:20|     485940|        145|    71.17|         420380|           4|    null|                0|\n",
      "|7026129|2019-08-26 14:30:34|     485953|        527|    45.81|         397834|           4|    null|                0|\n",
      "|7026234|2019-08-26 13:56:20|     486028|        232|    61.14|         395780|           4|    null|                0|\n",
      "|7026721|2019-08-26 16:23:20|     486355|         96|    28.30|         404600|           4|    null|                0|\n",
      "|7026788|2019-08-26 17:49:48|     486398|        242|    49.77|         409788|           4|    null|                0|\n",
      "|7027146|2019-08-26 16:19:44|     486631|        836|    63.94|         404384|           4|    null|                0|\n",
      "|7027150|2019-08-26 12:43:35|     486637|        956|    49.96|         391415|           4|    null|                0|\n",
      "|7027536|2019-08-26 15:23:50|     486885|        749|    30.69|         401030|           4|    null|                0|\n",
      "|7027765|2019-08-26 07:51:00|     487020|        251|   111.76|         373860|           4|    null|                0|\n",
      "|7028219|2019-08-26 18:13:02|     487304|         95|    59.70|         411182|           4|    null|                0|\n",
      "+-------+-------------------+-----------+-----------+---------+---------------+------------+--------+-----------------+\n",
      "only showing top 20 rows\n",
      "\n"
     ]
    }
   ],
   "source": [
    "all_processed.show()"
   ]
  },
  {
   "cell_type": "code",
   "execution_count": 12,
   "id": "6951f631",
   "metadata": {},
   "outputs": [
    {
     "name": "stdout",
     "output_type": "stream",
     "text": [
      "root\n",
      " |-- tx_id: long (nullable = true)\n",
      " |-- tx_datetime: timestamp (nullable = true)\n",
      " |-- customer_id: long (nullable = true)\n",
      " |-- terminal_id: integer (nullable = true)\n",
      " |-- tx_amount: decimal(10,2) (nullable = true)\n",
      " |-- tx_time_seconds: integer (nullable = true)\n",
      " |-- tx_time_days: integer (nullable = true)\n",
      " |-- tx_fraud: boolean (nullable = true)\n",
      " |-- tx_fraud_scenario: short (nullable = true)\n",
      "\n"
     ]
    }
   ],
   "source": [
    "all_processed.printSchema()"
   ]
  },
  {
   "cell_type": "code",
   "execution_count": 11,
   "id": "923d63a6",
   "metadata": {},
   "outputs": [
    {
     "data": {
      "text/plain": [
       "(1879747428, 9)"
      ]
     },
     "execution_count": 11,
     "metadata": {},
     "output_type": "execute_result"
    }
   ],
   "source": [
    "all_processed.count(), len(all_processed.columns)"
   ]
  },
  {
   "cell_type": "code",
   "execution_count": 21,
   "id": "6949263d",
   "metadata": {},
   "outputs": [],
   "source": [
    "all_processed = all_processed.withColumn(\"tx_datetime\", unix_timestamp(col(\"tx_datetime\")))"
   ]
  },
  {
   "cell_type": "code",
   "execution_count": 19,
   "id": "5a5d7443",
   "metadata": {},
   "outputs": [],
   "source": [
    "all_processed = all_processed.withColumn(\"tx_fraud\", col(\"tx_fraud\").cast(IntegerType()))"
   ]
  }
 ],
 "metadata": {
  "kernelspec": {
   "display_name": "Python 3",
   "language": "python",
   "name": "python3"
  },
  "language_info": {
   "codemirror_mode": {
    "name": "ipython",
    "version": 3
   },
   "file_extension": ".py",
   "mimetype": "text/x-python",
   "name": "python",
   "nbconvert_exporter": "python",
   "pygments_lexer": "ipython3",
   "version": "3.8.10"
  }
 },
 "nbformat": 4,
 "nbformat_minor": 5
}
